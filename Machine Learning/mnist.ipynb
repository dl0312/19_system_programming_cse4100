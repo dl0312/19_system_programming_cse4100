{
  "nbformat": 4,
  "nbformat_minor": 0,
  "metadata": {
    "colab": {
      "name": "mnist.ipynb",
      "version": "0.3.2",
      "provenance": [],
      "collapsed_sections": [],
      "include_colab_link": true
    },
    "kernelspec": {
      "name": "python3",
      "display_name": "Python 3"
    }
  },
  "cells": [
    {
      "cell_type": "markdown",
      "metadata": {
        "id": "view-in-github",
        "colab_type": "text"
      },
      "source": [
        "<a href=\"https://colab.research.google.com/github/dl0312/19_system_programming_cse4100/blob/master/Machine%20Learning/mnist.ipynb\" target=\"_parent\"><img src=\"https://colab.research.google.com/assets/colab-badge.svg\" alt=\"Open In Colab\"/></a>"
      ]
    },
    {
      "cell_type": "code",
      "metadata": {
        "id": "j2rdWqr0LfyI",
        "colab_type": "code",
        "colab": {
          "base_uri": "https://localhost:8080/",
          "height": 33
        },
        "outputId": "9559d8fa-3e32-4695-aa50-29dc460d63d6"
      },
      "source": [
        "import keras\n",
        "from keras.datasets import mnist\n",
        "from keras.models import Sequential\n",
        "from keras.layers import Dense, Dropout, Flatten, Activation\n",
        "from keras.layers import Conv2D, MaxPooling2D\n",
        "from keras import backend as K\n",
        "from keras.utils.vis_utils import model_to_dot\n",
        "\n",
        "from IPython.display import SVG\n",
        "%matplotlib inline\n",
        "import matplotlib.pyplot as plt\n",
        "from sklearn.metrics import confusion_matrix\n",
        "import pandas as pd\n",
        "import seaborn as sns"
      ],
      "execution_count": 1,
      "outputs": [
        {
          "output_type": "stream",
          "text": [
            "Using TensorFlow backend.\n"
          ],
          "name": "stderr"
        }
      ]
    },
    {
      "cell_type": "code",
      "metadata": {
        "id": "0NROdoEmMe0m",
        "colab_type": "code",
        "colab": {}
      },
      "source": [
        "epochs = 10\n",
        "learning_rate = 0.01"
      ],
      "execution_count": 0,
      "outputs": []
    },
    {
      "cell_type": "code",
      "metadata": {
        "id": "KaQy62u4MiKp",
        "colab_type": "code",
        "colab": {}
      },
      "source": [
        "batch_size = 128\n",
        "num_classes = 10"
      ],
      "execution_count": 0,
      "outputs": []
    },
    {
      "cell_type": "code",
      "metadata": {
        "id": "ACrTsIaAMkz8",
        "colab_type": "code",
        "colab": {}
      },
      "source": [
        "def plot_images(x, y_true, y_pred=None, size=(5, 5)):\n",
        "    assert len(x) == len(y_true) == size[0] * size[1]\n",
        "    \n",
        "    fig, axes = plt.subplots(size[0], size[1])\n",
        "    fig.subplots_adjust(hspace=0.5, wspace=0.1)\n",
        "    \n",
        "    for i, ax in enumerate(axes.flat):\n",
        "        if x[i].shape[-1] == 1:\n",
        "            ax.imshow(x[i].reshape(x[i].shape[0], x[i].shape[1]), cmap = plt.cm.binary)\n",
        "        else:\n",
        "            ax.imshow(x[i], cmap = plt.cm.binary)\n",
        "            \n",
        "        if y_pred is None:\n",
        "            xlabel = \"True: {0}\".format(y_true[i].argmax())\n",
        "        else:\n",
        "            xlabel = \"True: {0}, Pred: {1}\".format(y_true[i].argmax(),\n",
        "                                                  y_pred[i].argmax())\n",
        "        \n",
        "        ax.set_xlabel(xlabel)\n",
        "        \n",
        "        ax.set_xticks([])\n",
        "        ax.set_yticks([])\n",
        "    \n",
        "    plt.show()"
      ],
      "execution_count": 0,
      "outputs": []
    },
    {
      "cell_type": "code",
      "metadata": {
        "id": "kXEj2b74NkdW",
        "colab_type": "code",
        "colab": {}
      },
      "source": [
        "(x_train, y_train), (x_test, y_test) = mnist.load_data()"
      ],
      "execution_count": 0,
      "outputs": []
    },
    {
      "cell_type": "code",
      "metadata": {
        "id": "XNsO8XW8Npuf",
        "colab_type": "code",
        "colab": {}
      },
      "source": [
        "if len(x_train.shape) < 4:\n",
        "    x_train = x_train.reshape(x_train.shape[0], x_train.shape[1], x_train.shape[2], 1)\n",
        "    x_test = x_test.reshape(x_test.shape[0], x_test.shape[1], x_test.shape[2], 1)"
      ],
      "execution_count": 0,
      "outputs": []
    },
    {
      "cell_type": "code",
      "metadata": {
        "id": "bxFnOE6DN-2P",
        "colab_type": "code",
        "colab": {
          "base_uri": "https://localhost:8080/",
          "height": 67
        },
        "outputId": "dcd4a0e0-ec4a-4722-d597-e9abaca90b36"
      },
      "source": [
        "x_train = x_train.astype('float32')\n",
        "x_test = x_test.astype('float32')\n",
        "x_train /= 255\n",
        "x_test /= 255\n",
        "print('x_train shape:', x_train.shape)\n",
        "print(x_train.shape[0], 'train samples')\n",
        "print(x_test.shape[0], 'test samples')"
      ],
      "execution_count": 7,
      "outputs": [
        {
          "output_type": "stream",
          "text": [
            "x_train shape: (60000, 28, 28, 1)\n",
            "60000 train samples\n",
            "10000 test samples\n"
          ],
          "name": "stdout"
        }
      ]
    },
    {
      "cell_type": "code",
      "metadata": {
        "id": "TKlcztspOZM5",
        "colab_type": "code",
        "colab": {}
      },
      "source": [
        "y_train = keras.utils.to_categorical(y_train, num_classes)\n",
        "y_test = keras.utils.to_categorical(y_test, num_classes)"
      ],
      "execution_count": 0,
      "outputs": []
    },
    {
      "cell_type": "code",
      "metadata": {
        "id": "hcYMuQ3rOjTw",
        "colab_type": "code",
        "colab": {
          "base_uri": "https://localhost:8080/",
          "height": 265
        },
        "outputId": "223a69d2-6aef-4ebf-8620-d09b7f5edfb9"
      },
      "source": [
        "plot_images(x_train[:25], y_train[:25])"
      ],
      "execution_count": 9,
      "outputs": [
        {
          "output_type": "display_data",
          "data": {
            "image/png": "[encoded data removed]",
            "text/plain": [
              "<Figure size 432x288 with 25 Axes>"
            ]
          },
          "metadata": {
            "tags": []
          }
        }
      ]
    },
    {
      "cell_type": "code",
      "metadata": {
        "id": "tEJQQynPUk3b",
        "colab_type": "code",
        "colab": {}
      },
      "source": [
        "model = Sequential()"
      ],
      "execution_count": 0,
      "outputs": []
    },
    {
      "cell_type": "code",
      "metadata": {
        "id": "_SSxsClsUoPH",
        "colab_type": "code",
        "colab": {
          "base_uri": "https://localhost:8080/",
          "height": 137
        },
        "outputId": "48cf2332-e190-4023-b18f-2d29288c8b0d"
      },
      "source": [
        "# Add a layer with 64 3 x 3 kernel size convolution filters and then use ReLU as an activation function.\n",
        "# You can use arguments: strides, padding.\n",
        "model.add(Conv2D(32, kernel_size=(3, 3), activation='relu', input_shape=x_train.shape[1:]))\n",
        "model.add(Conv2D(64, (3, 3), activation='relu'))\n",
        "model.add(Conv2D(128, (3, 3), activation='relu'))\n",
        "# Add a layer with 2 x 2 kernel size max pooling\n",
        "# You can use arguments: strides, padding\n",
        "model.add(MaxPooling2D(pool_size=(2, 2)))\n",
        "model.add(Dropout(0.25))\n",
        "model.add(Flatten())\n",
        "# Add a K to 128 fully connected layer and then use ReLU as an activation function\n",
        "# K is previous layer output size\n",
        "model.add(Dense(128, activation=\"relu\"))\n",
        "model.add(Dropout(0.5))\n",
        "model.add(Dense(num_classes, activation='softmax'))"
      ],
      "execution_count": 11,
      "outputs": [
        {
          "output_type": "stream",
          "text": [
            "WARNING:tensorflow:From /usr/local/lib/python3.6/dist-packages/tensorflow/python/framework/op_def_library.py:263: colocate_with (from tensorflow.python.framework.ops) is deprecated and will be removed in a future version.\n",
            "Instructions for updating:\n",
            "Colocations handled automatically by placer.\n",
            "WARNING:tensorflow:From /usr/local/lib/python3.6/dist-packages/keras/backend/tensorflow_backend.py:3445: calling dropout (from tensorflow.python.ops.nn_ops) with keep_prob is deprecated and will be removed in a future version.\n",
            "Instructions for updating:\n",
            "Please use `rate` instead of `keep_prob`. Rate should be set to `rate = 1 - keep_prob`.\n"
          ],
          "name": "stdout"
        }
      ]
    },
    {
      "cell_type": "code",
      "metadata": {
        "id": "FB37XiE1Wrtj",
        "colab_type": "code",
        "colab": {}
      },
      "source": [
        "optimizer = keras.optimizers.SGD(lr=learning_rate)"
      ],
      "execution_count": 0,
      "outputs": []
    },
    {
      "cell_type": "code",
      "metadata": {
        "id": "B9H7_Y5nWx8S",
        "colab_type": "code",
        "colab": {}
      },
      "source": [
        "model.compile(optimizer=optimizer,  \n",
        "#               loss='sparse_categorical_crossentropy',  # how will we calculate our \"error.\" Neural network aims to minimize loss.\n",
        "              loss=keras.losses.categorical_crossentropy,  # how will we calculate our \"error.\" Neural network aims to minimize loss.\n",
        "              metrics=['accuracy'])  # what to track"
      ],
      "execution_count": 0,
      "outputs": []
    },
    {
      "cell_type": "code",
      "metadata": {
        "id": "krqCnW6EXBpc",
        "colab_type": "code",
        "colab": {
          "base_uri": "https://localhost:8080/",
          "height": 455
        },
        "outputId": "36ba76f0-93ba-4919-f017-fe8bd1a4da25"
      },
      "source": [
        "model.fit(x_train, y_train,\n",
        "          batch_size=batch_size,\n",
        "          epochs=epochs,\n",
        "          verbose=1,\n",
        "          validation_data=(x_test, y_test))  # train the model"
      ],
      "execution_count": 18,
      "outputs": [
        {
          "output_type": "stream",
          "text": [
            "WARNING:tensorflow:From /usr/local/lib/python3.6/dist-packages/tensorflow/python/ops/math_ops.py:3066: to_int32 (from tensorflow.python.ops.math_ops) is deprecated and will be removed in a future version.\n",
            "Instructions for updating:\n",
            "Use tf.cast instead.\n",
            "Train on 60000 samples, validate on 10000 samples\n",
            "Epoch 1/10\n",
            "60000/60000 [==============================] - 503s 8ms/step - loss: 0.9866 - acc: 0.6909 - val_loss: 0.2658 - val_acc: 0.9212\n",
            "Epoch 2/10\n",
            "60000/60000 [==============================] - 470s 8ms/step - loss: 0.3961 - acc: 0.8791 - val_loss: 0.2007 - val_acc: 0.9444\n",
            "Epoch 3/10\n",
            "60000/60000 [==============================] - 470s 8ms/step - loss: 0.3297 - acc: 0.8999 - val_loss: 0.1739 - val_acc: 0.9482\n",
            "Epoch 4/10\n",
            "60000/60000 [==============================] - 469s 8ms/step - loss: 0.2908 - acc: 0.9122 - val_loss: 0.1475 - val_acc: 0.9569\n",
            "Epoch 5/10\n",
            "60000/60000 [==============================] - 470s 8ms/step - loss: 0.2627 - acc: 0.9215 - val_loss: 0.1290 - val_acc: 0.9603\n",
            "Epoch 6/10\n",
            "60000/60000 [==============================] - 471s 8ms/step - loss: 0.2397 - acc: 0.9286 - val_loss: 0.1252 - val_acc: 0.9614\n",
            "Epoch 7/10\n",
            "60000/60000 [==============================] - 472s 8ms/step - loss: 0.2145 - acc: 0.9365 - val_loss: 0.1084 - val_acc: 0.9667\n",
            "Epoch 8/10\n",
            "60000/60000 [==============================] - 471s 8ms/step - loss: 0.1949 - acc: 0.9419 - val_loss: 0.0977 - val_acc: 0.9700\n",
            "Epoch 9/10\n",
            "60000/60000 [==============================] - 470s 8ms/step - loss: 0.1770 - acc: 0.9472 - val_loss: 0.0867 - val_acc: 0.9726\n",
            "Epoch 10/10\n",
            "60000/60000 [==============================] - 473s 8ms/step - loss: 0.1596 - acc: 0.9526 - val_loss: 0.0801 - val_acc: 0.9747\n"
          ],
          "name": "stdout"
        },
        {
          "output_type": "execute_result",
          "data": {
            "text/plain": [
              "<keras.callbacks.History at 0x7f09960bd710>"
            ]
          },
          "metadata": {
            "tags": []
          },
          "execution_count": 18
        }
      ]
    },
    {
      "cell_type": "code",
      "metadata": {
        "id": "-WWHXG8RXRmG",
        "colab_type": "code",
        "colab": {
          "base_uri": "https://localhost:8080/",
          "height": 50
        },
        "outputId": "460c1317-9d96-4d64-c9c9-08ea6b988c0c"
      },
      "source": [
        "score = model.evaluate(x_test, y_test, verbose=0)\n",
        "print('Test loss:', score[0])\n",
        "print('Test accuracy:', score[1])"
      ],
      "execution_count": 19,
      "outputs": [
        {
          "output_type": "stream",
          "text": [
            "Test loss: 0.0800656108725816\n",
            "Test accuracy: 0.9747\n"
          ],
          "name": "stdout"
        }
      ]
    },
    {
      "cell_type": "code",
      "metadata": {
        "id": "1_5rF__QjHvr",
        "colab_type": "code",
        "colab": {}
      },
      "source": [
        "y_pred = model.predict(x_test)"
      ],
      "execution_count": 0,
      "outputs": []
    },
    {
      "cell_type": "code",
      "metadata": {
        "id": "s4swRXcjjK4t",
        "colab_type": "code",
        "colab": {
          "base_uri": "https://localhost:8080/",
          "height": 265
        },
        "outputId": "1021fb39-a667-4f4a-98da-236ea1659965"
      },
      "source": [
        "plot_images(x=x_test[:25], y_true=y_test[:25], y_pred=y_pred[:25])"
      ],
      "execution_count": 21,
      "outputs": [
        {
          "output_type": "display_data",
          "data": {
            "image/png": "[encoded data removed]",
            "text/plain": [
              "<Figure size 432x288 with 25 Axes>"
            ]
          },
          "metadata": {
            "tags": []
          }
        }
      ]
    },
    {
      "cell_type": "code",
      "metadata": {
        "id": "vl9z2ZevjTS2",
        "colab_type": "code",
        "colab": {
          "base_uri": "https://localhost:8080/",
          "height": 286
        },
        "outputId": "3c1cf55d-4833-402d-f496-4e10f2f5f12a"
      },
      "source": [
        "y_result = confusion_matrix(y_test.argmax(axis=1), y_pred.argmax(axis=1))\n",
        "sns.heatmap(pd.DataFrame(y_result, range(10), range(10)), annot=True, fmt='g')"
      ],
      "execution_count": 22,
      "outputs": [
        {
          "output_type": "execute_result",
          "data": {
            "text/plain": [
              "<matplotlib.axes._subplots.AxesSubplot at 0x7f098de81c88>"
            ]
          },
          "metadata": {
            "tags": []
          },
          "execution_count": 22
        },
        {
          "output_type": "display_data",
          "data": {
            "image/png": "[encoded data removed]",
            "text/plain": [
              "<Figure size 432x288 with 2 Axes>"
            ]
          },
          "metadata": {
            "tags": []
          }
        }
      ]
    }
  ]
}