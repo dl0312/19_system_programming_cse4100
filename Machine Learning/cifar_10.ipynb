{
  "nbformat": 4,
  "nbformat_minor": 0,
  "metadata": {
    "colab": {
      "name": "cifar_10.ipynb",
      "version": "0.3.2",
      "provenance": [],
      "collapsed_sections": [],
      "include_colab_link": true
    },
    "kernelspec": {
      "name": "python3",
      "display_name": "Python 3"
    },
    "accelerator": "GPU"
  },
  "cells": [
    {
      "cell_type": "markdown",
      "metadata": {
        "id": "view-in-github",
        "colab_type": "text"
      },
      "source": [
        "<a href=\"https://colab.research.google.com/github/dl0312/19_system_programming_cse4100/blob/master/Machine%20Learning/cifar_10.ipynb\" target=\"_parent\"><img src=\"https://colab.research.google.com/assets/colab-badge.svg\" alt=\"Open In Colab\"/></a>"
      ]
    },
    {
      "cell_type": "code",
      "metadata": {
        "id": "9ucwm39ccva_",
        "colab_type": "code",
        "outputId": "92796350-b9de-4bdb-e672-7240d81aa956",
        "colab": {
          "base_uri": "https://localhost:8080/",
          "height": 34
        }
      },
      "source": [
        "from __future__ import print_function\n",
        "import keras\n",
        "from keras.preprocessing.image import ImageDataGenerator\n",
        "from keras.datasets import cifar10\n",
        "from keras.models import Sequential\n",
        "from keras.layers import Dense, Dropout, Flatten, Activation\n",
        "from keras.layers import Conv2D, MaxPooling2D\n",
        "from keras import backend as K\n",
        "from keras.utils.vis_utils import model_to_dot\n",
        "from IPython.display import SVG\n",
        "import os\n",
        "\n",
        "from IPython.display import SVG\n",
        "%matplotlib inline\n",
        "import matplotlib.pyplot as plt\n",
        "from sklearn.metrics import confusion_matrix\n",
        "import pandas as pd\n",
        "import seaborn as sns"
      ],
      "execution_count": 1,
      "outputs": [
        {
          "output_type": "stream",
          "text": [
            "Using TensorFlow backend.\n"
          ],
          "name": "stderr"
        }
      ]
    },
    {
      "cell_type": "code",
      "metadata": {
        "id": "RW94VtTqyUIB",
        "colab_type": "code",
        "colab": {}
      },
      "source": [
        "def plot_images(x, y_true, y_pred=None, size=(5, 5)):\n",
        "    assert len(x) == len(y_true) == size[0] * size[1]\n",
        "    \n",
        "    fig, axes = plt.subplots(size[0], size[1])\n",
        "    fig.subplots_adjust(hspace=1, wspace=1.5)\n",
        "    \n",
        "    for i, ax in enumerate(axes.flat):\n",
        "        if x[i].shape[-1] == 1:\n",
        "            ax.imshow(x[i].reshape(x[i].shape[0], x[i].shape[1]))\n",
        "        else:\n",
        "            ax.imshow(x[i])\n",
        "            \n",
        "        if y_pred is None:\n",
        "            xlabel = \"True: {0}\".format(y_true[i].argmax())\n",
        "        else:\n",
        "            xlabel = \"True: {0}, Pred: {1}\".format(y_true[i].argmax(),\n",
        "                                                  y_pred[i].argmax())\n",
        "        \n",
        "        ax.set_xlabel(xlabel)\n",
        "        \n",
        "        ax.set_xticks([])\n",
        "        ax.set_yticks([])\n",
        "    \n",
        "    plt.show()"
      ],
      "execution_count": 0,
      "outputs": []
    },
    {
      "cell_type": "code",
      "metadata": {
        "id": "FGvDH2kVyOw8",
        "colab_type": "code",
        "colab": {}
      },
      "source": [
        "epochs = 100\n",
        "learning_rate = 0.0001\n",
        "decay = 1e-6"
      ],
      "execution_count": 0,
      "outputs": []
    },
    {
      "cell_type": "code",
      "metadata": {
        "id": "2kRFZRityRfK",
        "colab_type": "code",
        "colab": {}
      },
      "source": [
        "batch_size = 32\n",
        "num_classes = 10"
      ],
      "execution_count": 0,
      "outputs": []
    },
    {
      "cell_type": "code",
      "metadata": {
        "id": "KYVz1n0d0KZS",
        "colab_type": "code",
        "colab": {}
      },
      "source": [
        "data_augmentation = True\n",
        "num_predictions = 20\n",
        "save_dir = os.path.join(os.getcwd(), 'saved_models')\n",
        "model_name = 'keras_cifar10_trained_model.h5'"
      ],
      "execution_count": 0,
      "outputs": []
    },
    {
      "cell_type": "code",
      "metadata": {
        "id": "jr3DIlowyXWd",
        "colab_type": "code",
        "colab": {
          "base_uri": "https://localhost:8080/",
          "height": 52
        },
        "outputId": "ffd22a71-8b71-413e-a45a-2a322a7927dd"
      },
      "source": [
        "# The data, split between train and test sets:\n",
        "(x_train, y_train), (x_test, y_test) = cifar10.load_data()"
      ],
      "execution_count": 6,
      "outputs": [
        {
          "output_type": "stream",
          "text": [
            "Downloading data from https://www.cs.toronto.edu/~kriz/cifar-10-python.tar.gz\n",
            "170500096/170498071 [==============================] - 2s 0us/step\n"
          ],
          "name": "stdout"
        }
      ]
    },
    {
      "cell_type": "code",
      "metadata": {
        "id": "rS6FWf_ANpd2",
        "colab_type": "code",
        "outputId": "998ab2ba-7552-4967-82a7-475e3ab46e17",
        "colab": {
          "base_uri": "https://localhost:8080/",
          "height": 269
        }
      },
      "source": [
        "plt.imshow(x_train[0])\n",
        "plt.show()"
      ],
      "execution_count": 7,
      "outputs": [
        {
          "output_type": "display_data",
          "data": {
            "image/png": "[encoded data removed]",
            "text/plain": [
              "<Figure size 432x288 with 1 Axes>"
            ]
          },
          "metadata": {
            "tags": []
          }
        }
      ]
    },
    {
      "cell_type": "code",
      "metadata": {
        "id": "Zfm0Vh39yeoj",
        "colab_type": "code",
        "outputId": "ae6840ff-5dfc-49e8-ffc8-dcbaef999c4c",
        "colab": {
          "base_uri": "https://localhost:8080/",
          "height": 69
        }
      },
      "source": [
        "# normalize x data\n",
        "x_train = x_train.astype('float32')\n",
        "x_test = x_test.astype('float32')\n",
        "x_train /= 255\n",
        "x_test /= 255\n",
        "print('x_train shape:', x_train.shape)\n",
        "print(x_train.shape[0], 'train samples')\n",
        "print(x_test.shape[0], 'test samples')"
      ],
      "execution_count": 8,
      "outputs": [
        {
          "output_type": "stream",
          "text": [
            "x_train shape: (50000, 32, 32, 3)\n",
            "50000 train samples\n",
            "10000 test samples\n"
          ],
          "name": "stdout"
        }
      ]
    },
    {
      "cell_type": "code",
      "metadata": {
        "id": "vre8q7hA0y0W",
        "colab_type": "code",
        "colab": {}
      },
      "source": [
        "# Convert class vectors to binary class matrices.\n",
        "y_train = keras.utils.to_categorical(y_train, num_classes)\n",
        "y_test = keras.utils.to_categorical(y_test, num_classes)"
      ],
      "execution_count": 0,
      "outputs": []
    },
    {
      "cell_type": "code",
      "metadata": {
        "id": "tHYq2GaIJoGd",
        "colab_type": "code",
        "colab": {}
      },
      "source": [
        "model = Sequential()"
      ],
      "execution_count": 0,
      "outputs": []
    },
    {
      "cell_type": "code",
      "metadata": {
        "id": "6T_6ktHqc7pB",
        "colab_type": "code",
        "outputId": "9dd019a8-5a1e-4daf-f28a-785c38db8c00",
        "colab": {
          "base_uri": "https://localhost:8080/",
          "height": 141
        }
      },
      "source": [
        "\n",
        "model.add(Conv2D(32,\n",
        "                 (3, 3),\n",
        "                 padding='same',\n",
        "                 activation=\"relu\",\n",
        "                 input_shape=x_train.shape[1:]))\n",
        "model.add(Conv2D(32,\n",
        "                 (3, 3),\n",
        "                 activation=\"relu\"))\n",
        "model.add(MaxPooling2D(pool_size=(2, 2)))\n",
        "model.add(Dropout(rate=0.25))\n",
        "model.add(Conv2D(64, (3, 3), padding='same', \n",
        "                 activation=\"relu\"))\n",
        "model.add(Conv2D(64, (3, 3), \n",
        "                 activation=\"relu\"))\n",
        "model.add(MaxPooling2D(pool_size=(2, 2)))\n",
        "model.add(Dropout(rate=0.25))\n",
        "\n",
        "model.add(Flatten())\n",
        "model.add(Dense(512,\n",
        "                activation=\"relu\"))\n",
        "model.add(Dropout(rate=0.5))\n",
        "model.add(Dense(num_classes,\n",
        "               activation='softmax'))"
      ],
      "execution_count": 11,
      "outputs": [
        {
          "output_type": "stream",
          "text": [
            "WARNING:tensorflow:From /usr/local/lib/python3.6/dist-packages/tensorflow/python/framework/op_def_library.py:263: colocate_with (from tensorflow.python.framework.ops) is deprecated and will be removed in a future version.\n",
            "Instructions for updating:\n",
            "Colocations handled automatically by placer.\n",
            "WARNING:tensorflow:From /usr/local/lib/python3.6/dist-packages/keras/backend/tensorflow_backend.py:3445: calling dropout (from tensorflow.python.ops.nn_ops) with keep_prob is deprecated and will be removed in a future version.\n",
            "Instructions for updating:\n",
            "Please use `rate` instead of `keep_prob`. Rate should be set to `rate = 1 - keep_prob`.\n"
          ],
          "name": "stdout"
        }
      ]
    },
    {
      "cell_type": "code",
      "metadata": {
        "id": "YbDxVhSXdrcz",
        "colab_type": "code",
        "colab": {}
      },
      "source": [
        "optimizer = keras.optimizers.rmsprop(lr=learning_rate, decay=decay)"
      ],
      "execution_count": 0,
      "outputs": []
    },
    {
      "cell_type": "code",
      "metadata": {
        "id": "lA1vZhSkeFzV",
        "colab_type": "code",
        "colab": {}
      },
      "source": [
        "model.compile(loss='categorical_crossentropy',\n",
        "              optimizer=optimizer,\n",
        "              metrics=['accuracy'])"
      ],
      "execution_count": 0,
      "outputs": []
    },
    {
      "cell_type": "code",
      "metadata": {
        "id": "5xgEhrRQ18TD",
        "colab_type": "code",
        "outputId": "f0693577-89fd-4de8-e3e7-d7db8dc97400",
        "colab": {
          "base_uri": "https://localhost:8080/",
          "height": 3597
        }
      },
      "source": [
        "if not data_augmentation:\n",
        "    print('Not using data augmentation.')\n",
        "    model.fit(x_train, y_train,\n",
        "              batch_size=batch_size,\n",
        "              epochs=epochs,\n",
        "              validation_data=(x_test, y_test),\n",
        "              shuffle=True)\n",
        "else:\n",
        "    print('Using real-time data augmentation.')\n",
        "    # This will do preprocessing and realtime data augmentation:\n",
        "    datagen = ImageDataGenerator(\n",
        "        featurewise_center=False,  # set input mean to 0 over the dataset\n",
        "        samplewise_center=False,  # set each sample mean to 0\n",
        "        featurewise_std_normalization=False,  # divide inputs by std of the dataset\n",
        "        samplewise_std_normalization=False,  # divide each input by its std\n",
        "        zca_whitening=False,  # apply ZCA whitening\n",
        "        zca_epsilon=1e-06,  # epsilon for ZCA whitening\n",
        "        rotation_range=0,  # randomly rotate images in the range (degrees, 0 to 180)\n",
        "        # randomly shift images horizontally (fraction of total width)\n",
        "        width_shift_range=0.1,\n",
        "        # randomly shift images vertically (fraction of total height)\n",
        "        height_shift_range=0.1,\n",
        "        shear_range=0.,  # set range for random shear\n",
        "        zoom_range=0.,  # set range for random zoom\n",
        "        channel_shift_range=0.,  # set range for random channel shifts\n",
        "        # set mode for filling points outside the input boundaries\n",
        "        fill_mode='nearest',\n",
        "        cval=0.,  # value used for fill_mode = \"constant\"\n",
        "        horizontal_flip=True,  # randomly flip images\n",
        "        vertical_flip=False,  # randomly flip images\n",
        "        # set rescaling factor (applied before any other transformation)\n",
        "        rescale=None,\n",
        "        # set function that will be applied on each input\n",
        "        preprocessing_function=None,\n",
        "        # image data format, either \"channels_first\" or \"channels_last\"\n",
        "        data_format=None,\n",
        "        # fraction of images reserved for validation (strictly between 0 and 1)\n",
        "        validation_split=0.0)\n",
        "\n",
        "    # Compute quantities required for feature-wise normalization\n",
        "    # (std, mean, and principal components if ZCA whitening is applied).\n",
        "    datagen.fit(x_train)\n",
        "\n",
        "    # Fit the model on the batches generated by datagen.flow().\n",
        "    model.fit_generator(datagen.flow(x_train, y_train,\n",
        "                                     batch_size=batch_size),\n",
        "                        epochs=epochs,\n",
        "                        validation_data=(x_test, y_test),\n",
        "                        workers=4,\n",
        "                       validation_steps=None,\n",
        "                       steps_per_epoch=len(x_train) / 64)"
      ],
      "execution_count": 14,
      "outputs": [
        {
          "output_type": "stream",
          "text": [
            "Using real-time data augmentation.\n",
            "WARNING:tensorflow:From /usr/local/lib/python3.6/dist-packages/tensorflow/python/ops/math_ops.py:3066: to_int32 (from tensorflow.python.ops.math_ops) is deprecated and will be removed in a future version.\n",
            "Instructions for updating:\n",
            "Use tf.cast instead.\n",
            "Epoch 1/100\n",
            "782/781 [==============================] - 30s 39ms/step - loss: 1.9878 - acc: 0.2686 - val_loss: 1.7004 - val_acc: 0.3916\n",
            "Epoch 2/100\n",
            "782/781 [==============================] - 25s 32ms/step - loss: 1.7139 - acc: 0.3733 - val_loss: 1.5851 - val_acc: 0.4266\n",
            "Epoch 3/100\n",
            "782/781 [==============================] - 24s 31ms/step - loss: 1.6016 - acc: 0.4158 - val_loss: 1.4551 - val_acc: 0.4796\n",
            "Epoch 4/100\n",
            "782/781 [==============================] - 25s 31ms/step - loss: 1.5354 - acc: 0.4416 - val_loss: 1.3791 - val_acc: 0.4962\n",
            "Epoch 5/100\n",
            "782/781 [==============================] - 24s 31ms/step - loss: 1.4891 - acc: 0.4632 - val_loss: 1.3442 - val_acc: 0.5232\n",
            "Epoch 6/100\n",
            "782/781 [==============================] - 24s 31ms/step - loss: 1.4339 - acc: 0.4844 - val_loss: 1.2780 - val_acc: 0.5438\n",
            "Epoch 7/100\n",
            "782/781 [==============================] - 24s 31ms/step - loss: 1.3919 - acc: 0.5022 - val_loss: 1.2576 - val_acc: 0.5544\n",
            "Epoch 8/100\n",
            "782/781 [==============================] - 24s 31ms/step - loss: 1.3581 - acc: 0.5135 - val_loss: 1.2011 - val_acc: 0.5706\n",
            "Epoch 9/100\n",
            "782/781 [==============================] - 24s 31ms/step - loss: 1.3311 - acc: 0.5262 - val_loss: 1.2364 - val_acc: 0.5659\n",
            "Epoch 10/100\n",
            "782/781 [==============================] - 24s 31ms/step - loss: 1.2917 - acc: 0.5372 - val_loss: 1.2297 - val_acc: 0.5572\n",
            "Epoch 11/100\n",
            "782/781 [==============================] - 24s 31ms/step - loss: 1.2621 - acc: 0.5517 - val_loss: 1.1681 - val_acc: 0.5850\n",
            "Epoch 12/100\n",
            "782/781 [==============================] - 25s 31ms/step - loss: 1.2354 - acc: 0.5625 - val_loss: 1.0725 - val_acc: 0.6192\n",
            "Epoch 13/100\n",
            "782/781 [==============================] - 24s 30ms/step - loss: 1.2137 - acc: 0.5670 - val_loss: 1.1218 - val_acc: 0.6016\n",
            "Epoch 14/100\n",
            "782/781 [==============================] - 24s 31ms/step - loss: 1.1775 - acc: 0.5845 - val_loss: 1.0405 - val_acc: 0.6296\n",
            "Epoch 15/100\n",
            "782/781 [==============================] - 24s 31ms/step - loss: 1.1802 - acc: 0.5852 - val_loss: 1.0446 - val_acc: 0.6314\n",
            "Epoch 16/100\n",
            "782/781 [==============================] - 24s 31ms/step - loss: 1.1392 - acc: 0.5969 - val_loss: 1.0134 - val_acc: 0.6448\n",
            "Epoch 17/100\n",
            "782/781 [==============================] - 24s 31ms/step - loss: 1.1291 - acc: 0.6008 - val_loss: 0.9892 - val_acc: 0.6512\n",
            "Epoch 18/100\n",
            "782/781 [==============================] - 24s 31ms/step - loss: 1.1129 - acc: 0.6079 - val_loss: 1.1058 - val_acc: 0.6111\n",
            "Epoch 19/100\n",
            "782/781 [==============================] - 24s 31ms/step - loss: 1.0966 - acc: 0.6170 - val_loss: 0.9863 - val_acc: 0.6562\n",
            "Epoch 20/100\n",
            "782/781 [==============================] - 24s 31ms/step - loss: 1.0733 - acc: 0.6210 - val_loss: 0.9652 - val_acc: 0.6602\n",
            "Epoch 21/100\n",
            "782/781 [==============================] - 24s 31ms/step - loss: 1.0751 - acc: 0.6206 - val_loss: 0.9974 - val_acc: 0.6509\n",
            "Epoch 22/100\n",
            "782/781 [==============================] - 24s 31ms/step - loss: 1.0557 - acc: 0.6250 - val_loss: 0.9940 - val_acc: 0.6531\n",
            "Epoch 23/100\n",
            "782/781 [==============================] - 24s 30ms/step - loss: 1.0312 - acc: 0.6338 - val_loss: 0.9110 - val_acc: 0.6809\n",
            "Epoch 24/100\n",
            "782/781 [==============================] - 24s 31ms/step - loss: 1.0314 - acc: 0.6391 - val_loss: 0.9217 - val_acc: 0.6764\n",
            "Epoch 25/100\n",
            "782/781 [==============================] - 24s 31ms/step - loss: 1.0182 - acc: 0.6437 - val_loss: 0.8593 - val_acc: 0.7039\n",
            "Epoch 26/100\n",
            "782/781 [==============================] - 24s 31ms/step - loss: 1.0009 - acc: 0.6515 - val_loss: 0.9034 - val_acc: 0.6879\n",
            "Epoch 27/100\n",
            "782/781 [==============================] - 24s 31ms/step - loss: 0.9945 - acc: 0.6491 - val_loss: 0.8885 - val_acc: 0.6944\n",
            "Epoch 28/100\n",
            "782/781 [==============================] - 24s 31ms/step - loss: 0.9793 - acc: 0.6590 - val_loss: 0.8794 - val_acc: 0.6949\n",
            "Epoch 29/100\n",
            "782/781 [==============================] - 24s 31ms/step - loss: 0.9774 - acc: 0.6560 - val_loss: 0.8861 - val_acc: 0.6932\n",
            "Epoch 30/100\n",
            "782/781 [==============================] - 24s 31ms/step - loss: 0.9694 - acc: 0.6605 - val_loss: 0.8660 - val_acc: 0.7001\n",
            "Epoch 31/100\n",
            "782/781 [==============================] - 24s 31ms/step - loss: 0.9668 - acc: 0.6598 - val_loss: 0.8303 - val_acc: 0.7141\n",
            "Epoch 32/100\n",
            "782/781 [==============================] - 25s 32ms/step - loss: 0.9467 - acc: 0.6692 - val_loss: 0.8810 - val_acc: 0.7003\n",
            "Epoch 33/100\n",
            "782/781 [==============================] - 24s 31ms/step - loss: 0.9480 - acc: 0.6694 - val_loss: 0.8218 - val_acc: 0.7179\n",
            "Epoch 34/100\n",
            "782/781 [==============================] - 24s 31ms/step - loss: 0.9460 - acc: 0.6710 - val_loss: 0.8473 - val_acc: 0.7107\n",
            "Epoch 35/100\n",
            "782/781 [==============================] - 24s 31ms/step - loss: 0.9294 - acc: 0.6752 - val_loss: 0.8438 - val_acc: 0.7129\n",
            "Epoch 36/100\n",
            "782/781 [==============================] - 24s 31ms/step - loss: 0.9286 - acc: 0.6750 - val_loss: 0.8675 - val_acc: 0.7049\n",
            "Epoch 37/100\n",
            "782/781 [==============================] - 24s 31ms/step - loss: 0.9280 - acc: 0.6754 - val_loss: 0.8272 - val_acc: 0.7138\n",
            "Epoch 38/100\n",
            "782/781 [==============================] - 24s 31ms/step - loss: 0.9247 - acc: 0.6794 - val_loss: 0.8206 - val_acc: 0.7205\n",
            "Epoch 39/100\n",
            "782/781 [==============================] - 25s 31ms/step - loss: 0.9057 - acc: 0.6862 - val_loss: 0.8339 - val_acc: 0.7094\n",
            "Epoch 40/100\n",
            "782/781 [==============================] - 24s 31ms/step - loss: 0.9024 - acc: 0.6837 - val_loss: 0.7870 - val_acc: 0.7331\n",
            "Epoch 41/100\n",
            "782/781 [==============================] - 24s 31ms/step - loss: 0.9055 - acc: 0.6857 - val_loss: 0.8240 - val_acc: 0.7151\n",
            "Epoch 42/100\n",
            "782/781 [==============================] - 24s 31ms/step - loss: 0.9011 - acc: 0.6868 - val_loss: 0.8378 - val_acc: 0.7154\n",
            "Epoch 43/100\n",
            "782/781 [==============================] - 24s 31ms/step - loss: 0.8835 - acc: 0.6943 - val_loss: 0.7988 - val_acc: 0.7292\n",
            "Epoch 44/100\n",
            "782/781 [==============================] - 24s 31ms/step - loss: 0.8920 - acc: 0.6894 - val_loss: 0.7999 - val_acc: 0.7280\n",
            "Epoch 45/100\n",
            "782/781 [==============================] - 24s 31ms/step - loss: 0.8842 - acc: 0.6936 - val_loss: 0.7805 - val_acc: 0.7379\n",
            "Epoch 46/100\n",
            "782/781 [==============================] - 24s 31ms/step - loss: 0.8870 - acc: 0.6918 - val_loss: 0.7681 - val_acc: 0.7379\n",
            "Epoch 47/100\n",
            "782/781 [==============================] - 24s 31ms/step - loss: 0.8602 - acc: 0.7042 - val_loss: 0.7402 - val_acc: 0.7496\n",
            "Epoch 48/100\n",
            "782/781 [==============================] - 24s 31ms/step - loss: 0.8872 - acc: 0.6937 - val_loss: 0.8005 - val_acc: 0.7274\n",
            "Epoch 49/100\n",
            "782/781 [==============================] - 24s 31ms/step - loss: 0.8790 - acc: 0.6962 - val_loss: 0.7992 - val_acc: 0.7262\n",
            "Epoch 50/100\n",
            "782/781 [==============================] - 25s 32ms/step - loss: 0.8621 - acc: 0.7004 - val_loss: 0.8078 - val_acc: 0.7237\n",
            "Epoch 51/100\n",
            "782/781 [==============================] - 24s 31ms/step - loss: 0.8613 - acc: 0.7034 - val_loss: 0.7681 - val_acc: 0.7383\n",
            "Epoch 52/100\n",
            "782/781 [==============================] - 24s 31ms/step - loss: 0.8631 - acc: 0.7044 - val_loss: 0.8849 - val_acc: 0.7046\n",
            "Epoch 53/100\n",
            "782/781 [==============================] - 24s 31ms/step - loss: 0.8603 - acc: 0.7024 - val_loss: 0.7209 - val_acc: 0.7555\n",
            "Epoch 54/100\n",
            "782/781 [==============================] - 24s 31ms/step - loss: 0.8602 - acc: 0.7026 - val_loss: 0.7674 - val_acc: 0.7374\n",
            "Epoch 55/100\n",
            "782/781 [==============================] - 25s 31ms/step - loss: 0.8587 - acc: 0.7018 - val_loss: 0.7505 - val_acc: 0.7470\n",
            "Epoch 56/100\n",
            "782/781 [==============================] - 24s 31ms/step - loss: 0.8532 - acc: 0.7107 - val_loss: 0.7461 - val_acc: 0.7461\n",
            "Epoch 57/100\n",
            "782/781 [==============================] - 24s 30ms/step - loss: 0.8591 - acc: 0.7046 - val_loss: 0.7432 - val_acc: 0.7484\n",
            "Epoch 58/100\n",
            "782/781 [==============================] - 24s 31ms/step - loss: 0.8448 - acc: 0.7094 - val_loss: 0.7408 - val_acc: 0.7505\n",
            "Epoch 59/100\n",
            "782/781 [==============================] - 24s 31ms/step - loss: 0.8528 - acc: 0.7061 - val_loss: 0.7903 - val_acc: 0.7349\n",
            "Epoch 60/100\n",
            "782/781 [==============================] - 24s 31ms/step - loss: 0.8454 - acc: 0.7095 - val_loss: 0.7436 - val_acc: 0.7527\n",
            "Epoch 61/100\n",
            "782/781 [==============================] - 24s 31ms/step - loss: 0.8411 - acc: 0.7138 - val_loss: 0.7158 - val_acc: 0.7639\n",
            "Epoch 62/100\n",
            "782/781 [==============================] - 24s 31ms/step - loss: 0.8406 - acc: 0.7116 - val_loss: 0.7266 - val_acc: 0.7576\n",
            "Epoch 63/100\n",
            "782/781 [==============================] - 24s 31ms/step - loss: 0.8471 - acc: 0.7107 - val_loss: 0.7690 - val_acc: 0.7409\n",
            "Epoch 64/100\n",
            "782/781 [==============================] - 24s 31ms/step - loss: 0.8338 - acc: 0.7137 - val_loss: 0.7627 - val_acc: 0.7379\n",
            "Epoch 65/100\n",
            "782/781 [==============================] - 24s 31ms/step - loss: 0.8311 - acc: 0.7162 - val_loss: 0.7910 - val_acc: 0.7394\n",
            "Epoch 66/100\n",
            "782/781 [==============================] - 24s 31ms/step - loss: 0.8470 - acc: 0.7122 - val_loss: 0.7784 - val_acc: 0.7387\n",
            "Epoch 67/100\n",
            "782/781 [==============================] - 24s 31ms/step - loss: 0.8338 - acc: 0.7144 - val_loss: 0.7214 - val_acc: 0.7628\n",
            "Epoch 68/100\n",
            "782/781 [==============================] - 24s 31ms/step - loss: 0.8342 - acc: 0.7150 - val_loss: 0.7142 - val_acc: 0.7614\n",
            "Epoch 69/100\n",
            "782/781 [==============================] - 24s 31ms/step - loss: 0.8308 - acc: 0.7182 - val_loss: 0.7856 - val_acc: 0.7335\n",
            "Epoch 70/100\n",
            "782/781 [==============================] - 24s 31ms/step - loss: 0.8341 - acc: 0.7164 - val_loss: 0.7665 - val_acc: 0.7504\n",
            "Epoch 71/100\n",
            "782/781 [==============================] - 24s 31ms/step - loss: 0.8099 - acc: 0.7229 - val_loss: 0.7260 - val_acc: 0.7564\n",
            "Epoch 72/100\n",
            "782/781 [==============================] - 24s 31ms/step - loss: 0.8397 - acc: 0.7132 - val_loss: 0.8292 - val_acc: 0.7235\n",
            "Epoch 73/100\n",
            "782/781 [==============================] - 24s 31ms/step - loss: 0.8205 - acc: 0.7180 - val_loss: 0.7105 - val_acc: 0.7626\n",
            "Epoch 74/100\n",
            "782/781 [==============================] - 24s 31ms/step - loss: 0.8262 - acc: 0.7189 - val_loss: 0.7402 - val_acc: 0.7481\n",
            "Epoch 75/100\n",
            "782/781 [==============================] - 24s 31ms/step - loss: 0.8258 - acc: 0.7176 - val_loss: 0.7399 - val_acc: 0.7570\n",
            "Epoch 76/100\n",
            "782/781 [==============================] - 24s 31ms/step - loss: 0.8205 - acc: 0.7201 - val_loss: 0.7144 - val_acc: 0.7554\n",
            "Epoch 77/100\n",
            "782/781 [==============================] - 24s 31ms/step - loss: 0.8240 - acc: 0.7206 - val_loss: 0.7179 - val_acc: 0.7648\n",
            "Epoch 78/100\n",
            "782/781 [==============================] - 24s 31ms/step - loss: 0.8151 - acc: 0.7207 - val_loss: 0.7279 - val_acc: 0.7561\n",
            "Epoch 79/100\n",
            "782/781 [==============================] - 24s 31ms/step - loss: 0.8132 - acc: 0.7208 - val_loss: 0.7162 - val_acc: 0.7621\n",
            "Epoch 80/100\n",
            "782/781 [==============================] - 24s 31ms/step - loss: 0.8108 - acc: 0.7239 - val_loss: 0.7496 - val_acc: 0.7484\n",
            "Epoch 81/100\n",
            "782/781 [==============================] - 24s 31ms/step - loss: 0.8085 - acc: 0.7276 - val_loss: 0.6978 - val_acc: 0.7668\n",
            "Epoch 82/100\n",
            "782/781 [==============================] - 24s 31ms/step - loss: 0.8139 - acc: 0.7229 - val_loss: 0.7188 - val_acc: 0.7579\n",
            "Epoch 83/100\n",
            "782/781 [==============================] - 24s 31ms/step - loss: 0.8056 - acc: 0.7263 - val_loss: 0.7402 - val_acc: 0.7519\n",
            "Epoch 84/100\n",
            "782/781 [==============================] - 24s 31ms/step - loss: 0.8040 - acc: 0.7278 - val_loss: 0.7855 - val_acc: 0.7339\n",
            "Epoch 85/100\n",
            "782/781 [==============================] - 24s 31ms/step - loss: 0.8022 - acc: 0.7253 - val_loss: 0.7467 - val_acc: 0.7481\n",
            "Epoch 86/100\n",
            "782/781 [==============================] - 24s 31ms/step - loss: 0.8100 - acc: 0.7212 - val_loss: 0.7186 - val_acc: 0.7596\n",
            "Epoch 87/100\n",
            "782/781 [==============================] - 24s 31ms/step - loss: 0.8033 - acc: 0.7273 - val_loss: 0.7200 - val_acc: 0.7651\n",
            "Epoch 88/100\n",
            "782/781 [==============================] - 25s 32ms/step - loss: 0.7958 - acc: 0.7309 - val_loss: 0.7409 - val_acc: 0.7491\n",
            "Epoch 89/100\n",
            "782/781 [==============================] - 25s 31ms/step - loss: 0.8021 - acc: 0.7292 - val_loss: 0.7255 - val_acc: 0.7564\n",
            "Epoch 90/100\n",
            "782/781 [==============================] - 24s 31ms/step - loss: 0.8025 - acc: 0.7294 - val_loss: 0.8173 - val_acc: 0.7235\n",
            "Epoch 91/100\n",
            "782/781 [==============================] - 24s 31ms/step - loss: 0.8074 - acc: 0.7272 - val_loss: 0.6897 - val_acc: 0.7674\n",
            "Epoch 92/100\n",
            "782/781 [==============================] - 24s 31ms/step - loss: 0.8058 - acc: 0.7268 - val_loss: 0.7160 - val_acc: 0.7630\n",
            "Epoch 93/100\n",
            "782/781 [==============================] - 24s 31ms/step - loss: 0.7927 - acc: 0.7333 - val_loss: 0.7559 - val_acc: 0.7515\n",
            "Epoch 94/100\n",
            "782/781 [==============================] - 25s 31ms/step - loss: 0.8070 - acc: 0.7272 - val_loss: 0.7771 - val_acc: 0.7460\n",
            "Epoch 95/100\n",
            "782/781 [==============================] - 24s 31ms/step - loss: 0.7995 - acc: 0.7303 - val_loss: 0.7234 - val_acc: 0.7606\n",
            "Epoch 96/100\n",
            "782/781 [==============================] - 24s 31ms/step - loss: 0.8036 - acc: 0.7258 - val_loss: 0.7026 - val_acc: 0.7681\n",
            "Epoch 97/100\n",
            "782/781 [==============================] - 24s 31ms/step - loss: 0.8028 - acc: 0.7274 - val_loss: 0.7434 - val_acc: 0.7470\n",
            "Epoch 98/100\n",
            "782/781 [==============================] - 24s 31ms/step - loss: 0.8011 - acc: 0.7280 - val_loss: 0.7049 - val_acc: 0.7737\n",
            "Epoch 99/100\n",
            "782/781 [==============================] - 24s 31ms/step - loss: 0.8093 - acc: 0.7272 - val_loss: 0.6837 - val_acc: 0.7731\n",
            "Epoch 100/100\n",
            "782/781 [==============================] - 24s 31ms/step - loss: 0.7948 - acc: 0.7295 - val_loss: 0.7027 - val_acc: 0.7778\n"
          ],
          "name": "stdout"
        }
      ]
    },
    {
      "cell_type": "code",
      "metadata": {
        "id": "S_hRomIpObs3",
        "colab_type": "code",
        "outputId": "484f4fb2-104e-4533-982e-0ead787e4fde",
        "colab": {
          "base_uri": "https://localhost:8080/",
          "height": 34
        }
      },
      "source": [
        "# Save model and weights\n",
        "if not os.path.isdir(save_dir):\n",
        "    os.makedirs(save_dir)\n",
        "model_path = os.path.join(save_dir, model_name)\n",
        "model.save(model_path)\n",
        "from keras.utils import plot_model\n",
        "plot_model(model, to_file='model.png', show_shapes=True)\n",
        "print('Saved trained model at %s ' % model_path)"
      ],
      "execution_count": 25,
      "outputs": [
        {
          "output_type": "stream",
          "text": [
            "Saved trained model at /content/saved_models/keras_cifar10_trained_model.h5 \n"
          ],
          "name": "stdout"
        }
      ]
    },
    {
      "cell_type": "code",
      "metadata": {
        "id": "IETp1JnjedXd",
        "colab_type": "code",
        "outputId": "b34e59b4-f828-4826-dc5f-93ebf1daa980",
        "colab": {
          "base_uri": "https://localhost:8080/",
          "height": 52
        }
      },
      "source": [
        "score = model.evaluate(x_test, y_test, verbose=0)\n",
        "print('Test loss:', score[0])\n",
        "print('Test accuracy:', score[1])"
      ],
      "execution_count": 16,
      "outputs": [
        {
          "output_type": "stream",
          "text": [
            "Test loss: 0.7027495085716248\n",
            "Test accuracy: 0.7778\n"
          ],
          "name": "stdout"
        }
      ]
    },
    {
      "cell_type": "code",
      "metadata": {
        "id": "oXuZcN3Yengm",
        "colab_type": "code",
        "colab": {}
      },
      "source": [
        "y_pred = model.predict(x_test)"
      ],
      "execution_count": 0,
      "outputs": []
    },
    {
      "cell_type": "code",
      "metadata": {
        "id": "nJ6aWifIF-0C",
        "colab_type": "code",
        "outputId": "700f7928-7f82-4d62-f6fd-670ded6d9dae",
        "colab": {
          "base_uri": "https://localhost:8080/",
          "height": 265
        }
      },
      "source": [
        "plot_images(x=x_test[:25], y_true=y_test[:25], y_pred=y_pred[:25])"
      ],
      "execution_count": 18,
      "outputs": [
        {
          "output_type": "display_data",
          "data": {
            "image/png": "[encoded data removed]",
            "text/plain": [
              "<Figure size 432x288 with 25 Axes>"
            ]
          },
          "metadata": {
            "tags": []
          }
        }
      ]
    }
  ]
}