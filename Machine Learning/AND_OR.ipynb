{
  "nbformat": 4,
  "nbformat_minor": 0,
  "metadata": {
    "colab": {
      "name": "AND_OR.ipynb",
      "version": "0.3.2",
      "provenance": [],
      "collapsed_sections": [],
      "include_colab_link": true
    },
    "kernelspec": {
      "name": "python3",
      "display_name": "Python 3"
    }
  },
  "cells": [
    {
      "cell_type": "markdown",
      "metadata": {
        "id": "view-in-github",
        "colab_type": "text"
      },
      "source": [
        "<a href=\"https://colab.research.google.com/github/dl0312/19_system_programming_cse4100/blob/master/Machine%20Learning/AND_OR.ipynb\" target=\"_parent\"><img src=\"https://colab.research.google.com/assets/colab-badge.svg\" alt=\"Open In Colab\"/></a>"
      ]
    },
    {
      "cell_type": "code",
      "metadata": {
        "id": "6ArZ4iHYS4KB",
        "colab_type": "code",
        "cellView": "code",
        "colab": {}
      },
      "source": [
        "#@title 기본 제목 텍스트\n",
        "import numpy as np\n",
        "%matplotlib inline\n",
        "import matplotlib.pyplot as plt"
      ],
      "execution_count": 0,
      "outputs": []
    },
    {
      "cell_type": "code",
      "metadata": {
        "id": "nv6yJzH2TZdW",
        "colab_type": "code",
        "colab": {}
      },
      "source": [
        "# Sigmoid Function\n",
        "def sigmoid(x):\n",
        "    return 1 / (1 + np.exp(-x))\n",
        "\n",
        "# Derivative of Sigmoid Function\n",
        "def derivative_sigmoid(x):\n",
        "    return x * (1 - x)"
      ],
      "execution_count": 0,
      "outputs": []
    },
    {
      "cell_type": "code",
      "metadata": {
        "id": "Jw1fYb9CyKE4",
        "colab_type": "code",
        "outputId": "5351bbb0-1b83-45ab-de59-88dee84880c5",
        "colab": {
          "base_uri": "https://localhost:8080/",
          "height": 50
        }
      },
      "source": [
        "mode = 0\n",
        "while mode is not 1 and mode is not 2:\n",
        "    mode = int(input(\"Which bitwise operation do you want? 1. AND  2. OR\\n\"))"
      ],
      "execution_count": 0,
      "outputs": [
        {
          "output_type": "stream",
          "text": [
            "Which bitwise operation do you want? 1. AND  2. OR\n",
            "1\n"
          ],
          "name": "stdout"
        }
      ]
    },
    {
      "cell_type": "code",
      "metadata": {
        "id": "JsFvG9LGTobG",
        "colab_type": "code",
        "outputId": "b5b44969-a84d-475b-e2cc-f2906ccc4e85",
        "colab": {
          "base_uri": "https://localhost:8080/",
          "height": 286
        }
      },
      "source": [
        "# input\n",
        "x = np.array([[1,1], [1,-1], [-1,-1], [-1,1]])\n",
        "# output\n",
        "\n",
        "# AND\n",
        "if mode is 1: y = np.array([[1], [0], [0], [0]])\n",
        "# OR\n",
        "if mode is 2: y = np.array([[1], [1], [0], [1]])\n",
        "\n",
        "# plot the training data\n",
        "fig, ax = plt.subplots()\n",
        "for i in range(y.shape[0]):\n",
        "    if y[i][0] == 0:\n",
        "        marker = 'ro'\n",
        "    else:\n",
        "        marker = 'bo'\n",
        "    ax.plot(x[i][0], x[i][1], marker)\n",
        "ax.axhline(y=0, color='k')\n",
        "ax.axvline(x=0, color='k')"
      ],
      "execution_count": 0,
      "outputs": [
        {
          "output_type": "execute_result",
          "data": {
            "text/plain": [
              "<matplotlib.lines.Line2D at 0x7f7d400f7320>"
            ]
          },
          "metadata": {
            "tags": []
          },
          "execution_count": 4
        },
        {
          "output_type": "display_data",
          "data": {
            "image/png": "[encoded data removed]",
            "text/plain": [
              "<Figure size 432x288 with 1 Axes>"
            ]
          },
          "metadata": {
            "tags": []
          }
        }
      ]
    },
    {
      "cell_type": "code",
      "metadata": {
        "id": "yjoo1hUjUT3t",
        "colab_type": "code",
        "colab": {}
      },
      "source": [
        "epoch = 5000 # number of training iterations\n",
        "learning_rate = 0.1 # very big number\n",
        "\n",
        "# dimension of each layer\n",
        "d_in = x.shape[1] # number of features in the input dataset\n",
        "d_out = 1 # output layer\n",
        "\n",
        "# weight and bias initialization\n",
        "wout = np.random.uniform(size=(d_in, 1))\n",
        "bout = np.random.uniform(size=(1, d_out))"
      ],
      "execution_count": 0,
      "outputs": []
    },
    {
      "cell_type": "code",
      "metadata": {
        "id": "6FyGm-ptU5ER",
        "colab_type": "code",
        "outputId": "7a488330-18c0-46ee-ca06-4b1dc5ed029d",
        "colab": {
          "base_uri": "https://localhost:8080/",
          "height": 184
        }
      },
      "source": [
        "for i in range(epoch):\n",
        "    # Forward pass\n",
        "    y_pred = sigmoid(x.dot(wout) + bout)\n",
        "    \n",
        "    # Compute and print loss\n",
        "    loss = np.square(y_pred - y) # 1/2 is not that affect to result because of performance\n",
        "    if i % 500 == 0:\n",
        "        print('Epoch', i, ':', loss.sum())\n",
        "    \n",
        "    # Backpropagation to compute gradients\n",
        "    grad_y_pred = (y-y_pred) + derivative_sigmoid(y_pred)\n",
        "    grad_wout = x.T.dot(grad_y_pred)\n",
        "    grad_bout = np.sum(grad_y_pred, axis=0, keepdims=True) # make input node converge to 1\n",
        "    \n",
        "    # Update weights and biases\n",
        "    wout += grad_wout * learning_rate\n",
        "    bout += grad_bout * learning_rate"
      ],
      "execution_count": 0,
      "outputs": [
        {
          "output_type": "stream",
          "text": [
            "Epoch 0 : 0.74029173585023\n",
            "Epoch 500 : 0.027516509513768904\n",
            "Epoch 1000 : 0.013507247277447981\n",
            "Epoch 1500 : 0.008903442130934918\n",
            "Epoch 2000 : 0.006627281688102563\n",
            "Epoch 2500 : 0.005272872876378537\n",
            "Epoch 3000 : 0.004375670199690082\n",
            "Epoch 3500 : 0.0037380569038120023\n",
            "Epoch 4000 : 0.0032618341428280184\n",
            "Epoch 4500 : 0.002892730516143799\n"
          ],
          "name": "stdout"
        }
      ]
    },
    {
      "cell_type": "code",
      "metadata": {
        "id": "eTJzPQHeVqku",
        "colab_type": "code",
        "outputId": "03085742-5110-4798-fe64-1d14af96f96a",
        "colab": {
          "base_uri": "https://localhost:8080/",
          "height": 351
        }
      },
      "source": [
        "print('Input')\n",
        "print(x)\n",
        "print('Label')\n",
        "print(y)\n",
        "print('Output')\n",
        "print(y_pred)\n",
        "print('Weight')\n",
        "print(wout)\n",
        "print('Bias')\n",
        "print(bout)"
      ],
      "execution_count": 0,
      "outputs": [
        {
          "output_type": "stream",
          "text": [
            "Input\n",
            "[[ 1  1]\n",
            " [ 1 -1]\n",
            " [-1 -1]\n",
            " [-1  1]]\n",
            "Label\n",
            "[[1]\n",
            " [0]\n",
            " [0]\n",
            " [0]]\n",
            "Output\n",
            "[[9.99228702e-01]\n",
            " [3.60434615e-02]\n",
            " [1.07918297e-06]\n",
            " [3.60434615e-02]]\n",
            "Weight\n",
            "[[5.22664645]\n",
            " [5.22664645]]\n",
            "Bias\n",
            "[[-3.28642636]]\n"
          ],
          "name": "stdout"
        }
      ]
    }
  ]
}